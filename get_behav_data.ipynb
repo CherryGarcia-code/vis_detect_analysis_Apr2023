{
 "cells": [
  {
   "cell_type": "code",
   "execution_count": null,
   "metadata": {},
   "outputs": [],
   "source": [
    "from pathlib import Path\n",
    "import json\n",
    "import numpy as np\n",
    "import pandas as pd\n"
   ]
  },
  {
   "cell_type": "code",
   "execution_count": null,
   "metadata": {},
   "outputs": [],
   "source": [
    "data_path = Path('X:/public/projects/BeJG_20230130_VisDetect/') #Define the path to the global parent folder within Ceph shared lab space. \n",
    "session_settings_paths = list(data_path.rglob(\"*session_settings.json\")) # Get a list of all paths for the session settings. \n",
    "per_session_trials_paths = list(data_path.rglob(\"*trials.json\")) # Get a list of all paths for the trials conditions for all trials in a session.\n",
    "assert len(per_session_trials_paths) == len(session_settings_paths) # Check that the length of each list is the same (suggesting that each session settings file corresponds to a trials settings file)."
   ]
  },
  {
   "cell_type": "code",
   "execution_count": 57,
   "metadata": {},
   "outputs": [
    {
     "ename": "ValueError",
     "evalue": "Cannot set a DataFrame with multiple columns to the single column 0",
     "output_type": "error",
     "traceback": [
      "\u001b[1;31m---------------------------------------------------------------------------\u001b[0m",
      "\u001b[1;31mValueError\u001b[0m                                Traceback (most recent call last)",
      "Cell \u001b[1;32mIn[57], line 41\u001b[0m\n\u001b[0;32m     38\u001b[0m     change_TF\u001b[39m.\u001b[39mappend(per_session_trials_data[trial][\u001b[39m'\u001b[39m\u001b[39mStim2TF\u001b[39m\u001b[39m'\u001b[39m]) \u001b[39m# the value of the change TF (change size out of 4,2,1.5,1.35,1.25)\u001b[39;00m\n\u001b[0;32m     40\u001b[0m headers \u001b[39m=\u001b[39m [\u001b[39m'\u001b[39m\u001b[39mmouse_id\u001b[39m\u001b[39m'\u001b[39m, \u001b[39m'\u001b[39m\u001b[39msession_date\u001b[39m\u001b[39m'\u001b[39m, \u001b[39m'\u001b[39m\u001b[39msession_time\u001b[39m\u001b[39m'\u001b[39m, \u001b[39m'\u001b[39m\u001b[39mbaseline_temporal_freq\u001b[39m\u001b[39m'\u001b[39m,\u001b[39m'\u001b[39m\u001b[39mauto_rewd\u001b[39m\u001b[39m'\u001b[39m, \u001b[39m'\u001b[39m\u001b[39mtrial_outcome\u001b[39m\u001b[39m'\u001b[39m, \u001b[39m'\u001b[39m\u001b[39mreaction_time\u001b[39m\u001b[39m'\u001b[39m, \u001b[39m'\u001b[39m\u001b[39mtemporal_freq_vector\u001b[39m\u001b[39m'\u001b[39m, \u001b[39m'\u001b[39m\u001b[39mbaseline_TF\u001b[39m\u001b[39m'\u001b[39m, \u001b[39m'\u001b[39m\u001b[39mchange_TF\u001b[39m\u001b[39m'\u001b[39m]\n\u001b[1;32m---> 41\u001b[0m mouse_df[session_idx] \u001b[39m=\u001b[39m pd\u001b[39m.\u001b[39mDataFrame([mouse_id,session_date, session_time,baseline_temporal_freq,auto_rewd, session_trial_outcome, reaction_time, session_TF_vectors, baseline_TF, change_TF], index\u001b[39m=\u001b[39mheaders)\u001b[39m.\u001b[39mT\n",
      "File \u001b[1;32mc:\\Users\\Ben\\anaconda3\\envs\\myenv\\lib\\site-packages\\pandas\\core\\frame.py:3970\u001b[0m, in \u001b[0;36mDataFrame.__setitem__\u001b[1;34m(self, key, value)\u001b[0m\n\u001b[0;32m   3968\u001b[0m     \u001b[39mself\u001b[39m\u001b[39m.\u001b[39m_setitem_array(key, value)\n\u001b[0;32m   3969\u001b[0m \u001b[39melif\u001b[39;00m \u001b[39misinstance\u001b[39m(value, DataFrame):\n\u001b[1;32m-> 3970\u001b[0m     \u001b[39mself\u001b[39;49m\u001b[39m.\u001b[39;49m_set_item_frame_value(key, value)\n\u001b[0;32m   3971\u001b[0m \u001b[39melif\u001b[39;00m (\n\u001b[0;32m   3972\u001b[0m     is_list_like(value)\n\u001b[0;32m   3973\u001b[0m     \u001b[39mand\u001b[39;00m \u001b[39mnot\u001b[39;00m \u001b[39mself\u001b[39m\u001b[39m.\u001b[39mcolumns\u001b[39m.\u001b[39mis_unique\n\u001b[0;32m   3974\u001b[0m     \u001b[39mand\u001b[39;00m \u001b[39m1\u001b[39m \u001b[39m<\u001b[39m \u001b[39mlen\u001b[39m(\u001b[39mself\u001b[39m\u001b[39m.\u001b[39mcolumns\u001b[39m.\u001b[39mget_indexer_for([key])) \u001b[39m==\u001b[39m \u001b[39mlen\u001b[39m(value)\n\u001b[0;32m   3975\u001b[0m ):\n\u001b[0;32m   3976\u001b[0m     \u001b[39m# Column to set is duplicated\u001b[39;00m\n\u001b[0;32m   3977\u001b[0m     \u001b[39mself\u001b[39m\u001b[39m.\u001b[39m_setitem_array([key], value)\n",
      "File \u001b[1;32mc:\\Users\\Ben\\anaconda3\\envs\\myenv\\lib\\site-packages\\pandas\\core\\frame.py:4125\u001b[0m, in \u001b[0;36mDataFrame._set_item_frame_value\u001b[1;34m(self, key, value)\u001b[0m\n\u001b[0;32m   4122\u001b[0m     \u001b[39mreturn\u001b[39;00m\n\u001b[0;32m   4124\u001b[0m \u001b[39mif\u001b[39;00m \u001b[39mlen\u001b[39m(value\u001b[39m.\u001b[39mcolumns) \u001b[39m!=\u001b[39m \u001b[39m1\u001b[39m:\n\u001b[1;32m-> 4125\u001b[0m     \u001b[39mraise\u001b[39;00m \u001b[39mValueError\u001b[39;00m(\n\u001b[0;32m   4126\u001b[0m         \u001b[39m\"\u001b[39m\u001b[39mCannot set a DataFrame with multiple columns to the single \u001b[39m\u001b[39m\"\u001b[39m\n\u001b[0;32m   4127\u001b[0m         \u001b[39mf\u001b[39m\u001b[39m\"\u001b[39m\u001b[39mcolumn \u001b[39m\u001b[39m{\u001b[39;00mkey\u001b[39m}\u001b[39;00m\u001b[39m\"\u001b[39m\n\u001b[0;32m   4128\u001b[0m     )\n\u001b[0;32m   4130\u001b[0m \u001b[39mself\u001b[39m[key] \u001b[39m=\u001b[39m value[value\u001b[39m.\u001b[39mcolumns[\u001b[39m0\u001b[39m]]\n",
      "\u001b[1;31mValueError\u001b[0m: Cannot set a DataFrame with multiple columns to the single column 0"
     ]
    }
   ],
   "source": [
    "# Load the data from the json files for trial and session data:\n",
    "for session_idx in np.arange(len(session_settings_paths)):\n",
    "# session_idx = 0\n",
    "    with open(session_settings_paths[session_idx]) as session:\n",
    "        session_settings = pd.Series(json.load(session)) # per session settings relevant for all trials within a session.\n",
    "        \n",
    "    with open(per_session_trials_paths[session_idx]) as per_session_trials: # this is per session (json file includes all the trials that occured in that session)\n",
    "        per_session_trials_data = pd.Series(json.load(per_session_trials)) # output is a series where each element is a dictionary of values for a single trial.\n",
    "\n",
    "    # extract \n",
    "    # from session settings: temporalfreq, autorewd; \n",
    "    # From trials data: trialoutcome, reactiontimes, TF, stimT, Stim1TF (baseline freq), Stim2TF (change freq).\n",
    "\n",
    "    mouse_id = session_settings_paths[session_idx].name.split('_')[1]\n",
    "    session_date = session_settings_paths[session_idx].name.split('_')[2]\n",
    "    session_time = session_settings_paths[session_idx].name.split('_')[3]\n",
    "    baseline_temporal_freq = session_settings.temporalfreq\n",
    "    auto_rewd = session_settings.autorewd\n",
    "\n",
    "    session_trial_outcome = []\n",
    "    reaction_time = []\n",
    "    session_TF_vectors = []\n",
    "    baseline_TF = []\n",
    "    change_TF = []\n",
    "\n",
    "    for trial in np.arange(len(per_session_trials_data)):\n",
    "        # trial = 0 #comment out after loop structuring\n",
    "        trial_outcome = per_session_trials_data[trial]['trialoutcome']\n",
    "        session_trial_outcome.append(trial_outcome) # a single string value of FA, Hit, Ref, Miss, Gray, abort\n",
    "        if trial_outcome == 'Hit': trial_outcome = 'RT'\n",
    "        reaction_time.append(per_session_trials_data[trial]['reactiontimes'][trial_outcome]) # an individual float value from a dictionary of reaction times for each one of the keys for the possible trial outcomes detailed above. \n",
    "        temporal_freq_vector = np.array(per_session_trials_data[trial]['TF']) # a list (turned into an array) of values for the temporal frequency from before grating started till the trial ended. \n",
    "        temporal_freq_filter = temporal_freq_vector > 0\n",
    "        temporal_freq_vector = temporal_freq_vector[temporal_freq_filter]\n",
    "        temporal_freq_vector = temporal_freq_vector[::3]\n",
    "        session_TF_vectors.append(temporal_freq_vector)\n",
    "        baseline_TF.append(per_session_trials_data[trial]['Stim1TF']) # the value of TF around which the baseline frequency revolves. \n",
    "        change_TF.append(per_session_trials_data[trial]['Stim2TF']) # the value of the change TF (change size out of 4,2,1.5,1.35,1.25)\n",
    "\n",
    "    headers = ['mouse_id', 'session_date', 'session_time', 'baseline_temporal_freq','auto_rewd', 'trial_outcome', 'reaction_time', 'temporal_freq_vector', 'baseline_TF', 'change_TF']\n",
    "    mouse_df = pd.DataFrame([mouse_id,session_date, session_time,baseline_temporal_freq,auto_rewd, session_trial_outcome, reaction_time, session_TF_vectors, baseline_TF, change_TF], index=headers).T"
   ]
  },
  {
   "cell_type": "code",
   "execution_count": 44,
   "metadata": {},
   "outputs": [
    {
     "data": {
      "text/plain": [
       "mouse_id                                                                001\n",
       "session_date                                                       20230123\n",
       "session_time                                                         113329\n",
       "baseline_temporal_freq                                                    1\n",
       "auto_rewd                                                                 1\n",
       "trial_outcome                                        [Miss, Miss, FA, Miss]\n",
       "reaction_time                                  [0.655, 0.655, 0.063, 0.655]\n",
       "temporal_freq_vector      [[1.8590933774695886, 1.6159238997492913, 0.79...\n",
       "baseline_TF                                                    [1, 1, 1, 1]\n",
       "change_TF                                                      [2, 4, 2, 2]\n",
       "Name: 0, dtype: object"
      ]
     },
     "execution_count": 44,
     "metadata": {},
     "output_type": "execute_result"
    }
   ],
   "source": [
    "\n",
    "mouse_df.loc[session_idx]"
   ]
  },
  {
   "cell_type": "code",
   "execution_count": 52,
   "metadata": {},
   "outputs": [
    {
     "data": {
      "text/plain": [
       "['Miss',\n",
       " 'Miss',\n",
       " 'Ref',\n",
       " 'Miss',\n",
       " 'Miss',\n",
       " 'Miss',\n",
       " 'Miss',\n",
       " 'Miss',\n",
       " 'Miss',\n",
       " 'Miss',\n",
       " 'abort',\n",
       " 'Miss',\n",
       " 'Miss',\n",
       " 'Miss',\n",
       " 'Miss',\n",
       " 'Miss',\n",
       " 'Ref',\n",
       " 'Miss',\n",
       " 'Miss',\n",
       " 'Miss',\n",
       " 'Miss',\n",
       " 'Miss',\n",
       " 'Miss',\n",
       " 'Miss',\n",
       " 'Miss',\n",
       " 'Miss',\n",
       " 'Miss',\n",
       " 'Miss',\n",
       " 'Miss',\n",
       " 'Miss',\n",
       " 'abort',\n",
       " 'abort',\n",
       " 'Miss',\n",
       " 'Miss',\n",
       " 'Miss',\n",
       " 'Miss',\n",
       " 'Miss',\n",
       " 'Miss',\n",
       " 'Miss',\n",
       " 'Miss',\n",
       " 'Miss',\n",
       " 'Hit']"
      ]
     },
     "execution_count": 52,
     "metadata": {},
     "output_type": "execute_result"
    }
   ],
   "source": [
    "session_trial_outcome"
   ]
  },
  {
   "cell_type": "code",
   "execution_count": 49,
   "metadata": {},
   "outputs": [
    {
     "data": {
      "text/plain": [
       "41"
      ]
     },
     "execution_count": 49,
     "metadata": {},
     "output_type": "execute_result"
    }
   ],
   "source": [
    "trial"
   ]
  },
  {
   "cell_type": "code",
   "execution_count": null,
   "metadata": {},
   "outputs": [],
   "source": []
  }
 ],
 "metadata": {
  "kernelspec": {
   "display_name": "myenv",
   "language": "python",
   "name": "python3"
  },
  "language_info": {
   "codemirror_mode": {
    "name": "ipython",
    "version": 3
   },
   "file_extension": ".py",
   "mimetype": "text/x-python",
   "name": "python",
   "nbconvert_exporter": "python",
   "pygments_lexer": "ipython3",
   "version": "3.10.9"
  },
  "orig_nbformat": 4,
  "vscode": {
   "interpreter": {
    "hash": "f99a0590d13df4a31e08c3068b8c049e83b37b96d7b437c7d81eb356b8900e0b"
   }
  }
 },
 "nbformat": 4,
 "nbformat_minor": 2
}
