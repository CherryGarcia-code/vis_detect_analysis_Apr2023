{
 "cells": [
  {
   "cell_type": "code",
   "execution_count": null,
   "metadata": {},
   "outputs": [],
   "source": [
    "import helpers as hp\n",
    "from pathlib import Path\n",
    "import numpy as np\n",
    "import pandas as pd\n",
    "import matplotlib.pyplot as plt\n",
    "import seaborn as sns"
   ]
  },
  {
   "cell_type": "code",
   "execution_count": null,
   "metadata": {},
   "outputs": [],
   "source": [
    "# path_to_parent_folder = 'X:/public/projects/BeJG_20230130_VisDetect/' (explicit path - '\\\\ceph-gw02.hpc.swc.ucl.ac.uk\\mrsic_flogel\\public\\projects\\BeJG_20230130_VisDetect\\' )\n",
    "# path_to_parent_folder = 'Y:\\public\\projects\\MiLo_20211201_DMDM_CausalCortex/All_Mouse_Behaviour_Data_Raw/Main/'\n",
    "\n",
    "path_to_parent_folder = str(input('enter path to parent folder (including final slash):'))\n",
    "return_dict_or_df = str(input('return dict, df or all? (dict, df or all)'))\n",
    "if return_dict_or_df != 'dict':\n",
    "    choose_outcome = str(input('choose outcome of trials to include in dataframe (all, Hit,Miss,FA,Abort,Ref )'))\n",
    "else: choose_outcome = 'all'\n"
   ]
  },
  {
   "cell_type": "code",
   "execution_count": null,
   "metadata": {},
   "outputs": [],
   "source": [
    "\n",
    "behave_data = hp.get_behave_data(path_to_parent_folder = path_to_parent_folder, choose_outcome = choose_outcome, return_dict_or_df = return_dict_or_df) #,include_auto_reward_trials = True)"
   ]
  },
  {
   "cell_type": "code",
   "execution_count": null,
   "metadata": {},
   "outputs": [],
   "source": [
    "behave_data"
   ]
  },
  {
   "cell_type": "code",
   "execution_count": null,
   "metadata": {},
   "outputs": [],
   "source": [
    "sns.set_style('ticks')\n",
    "# sns.color_palette(\"Set2\")\n",
    "# sns.displot(data = behave_data[(behave_data['session_trial_outcome']!='Miss') & (behave_data['session_trial_outcome']!='Ref')], x = 'reaction_time', hue = 'change_size_TF',col='session_trial_outcome', palette = sns.color_palette('rocket'), kind='hist',binwidth = 0.05, alpha = 0.3 ,kde = True, stat = 'percent',common_norm=False)\n",
    "sns.displot(data = behave_data[behave_data['session_trial_outcome']=='Hit'], x = 'reaction_time', hue = 'change_size_TF', palette = sns.color_palette('rocket'), kind='hist',binwidth = 0.05, alpha = 0.3 ,kde = True, stat = 'percent',common_norm=False,col = 'change_size_TF',row='mouse_id')"
   ]
  }
 ],
 "metadata": {
  "kernelspec": {
   "display_name": "myenv",
   "language": "python",
   "name": "python3"
  },
  "language_info": {
   "codemirror_mode": {
    "name": "ipython",
    "version": 3
   },
   "file_extension": ".py",
   "mimetype": "text/x-python",
   "name": "python",
   "nbconvert_exporter": "python",
   "pygments_lexer": "ipython3",
   "version": "3.10.9"
  },
  "orig_nbformat": 4,
  "vscode": {
   "interpreter": {
    "hash": "f99a0590d13df4a31e08c3068b8c049e83b37b96d7b437c7d81eb356b8900e0b"
   }
  }
 },
 "nbformat": 4,
 "nbformat_minor": 2
}
